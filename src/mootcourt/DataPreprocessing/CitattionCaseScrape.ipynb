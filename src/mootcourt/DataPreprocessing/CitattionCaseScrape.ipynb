{
 "cells": [
  {
   "cell_type": "code",
   "execution_count": 4,
   "metadata": {},
   "outputs": [],
   "source": [
    "import requests\n",
    "from bs4 import BeautifulSoup\n",
    "import pandas as pd\n"
   ]
  },
  {
   "cell_type": "code",
   "execution_count": 5,
   "metadata": {},
   "outputs": [],
   "source": [
    "def scrape_case_data(url):\n",
    "    response = requests.get(url)\n",
    "    soup = BeautifulSoup(response.content, 'html.parser')\n",
    "    \n",
    "    # Find the relevant section containing case details (this may vary based on website structure)\n",
    "    cases = []\n",
    "    \n",
    "    # Example: Assuming cases are listed in <div class=\"case\"> tags (you need to inspect the actual HTML)\n",
    "    for case_div in soup.find_all('div', class_='case'):\n",
    "        case_name = case_div.find('h2').text.strip()  # Adjust based on actual structure\n",
    "        citation = case_div.find('span', class_='citation').text.strip()  # Adjust based on actual structure\n",
    "        year = case_div.find('span', class_='year').text.strip()  # Adjust based on actual structure\n",
    "        facts = case_div.find('p', class_='facts').text.strip()  # Adjust based on actual structure\n",
    "        issues = case_div.find('p', class_='issues').text.strip()  # Adjust based on actual structure\n",
    "        judgment_summary = case_div.find('p', class_='summary').text.strip()  # Adjust based on actual structure\n",
    "        \n",
    "        cases.append({\n",
    "            'case_name': case_name,\n",
    "            'citation': citation,\n",
    "            'year': year,\n",
    "            'facts': facts,\n",
    "            'issues': issues,\n",
    "            'judgment_summary': judgment_summary\n",
    "        })\n",
    "    \n",
    "    return cases\n"
   ]
  },
  {
   "cell_type": "code",
   "execution_count": 6,
   "metadata": {},
   "outputs": [
    {
     "name": "stdout",
     "output_type": "stream",
     "text": [
      "Dataset saved as constitutional_cases_dataset.csv\n"
     ]
    }
   ],
   "source": [
    "def main():\n",
    "    url = \"https://www.indiankanoon.org/search/?formInput=constitution\"  # Example URL (modify as needed)\n",
    "    all_cases = scrape_case_data(url)\n",
    "\n",
    "    # Create DataFrame and save to CSV\n",
    "    df = pd.DataFrame(all_cases)\n",
    "    df.to_csv('constitutional_cases_dataset.csv', index=False)\n",
    "    print(\"Dataset saved as constitutional_cases_dataset.csv\")\n",
    "\n",
    "if __name__ == \"__main__\":\n",
    "    main()\n"
   ]
  },
  {
   "cell_type": "code",
   "execution_count": 11,
   "metadata": {},
   "outputs": [
    {
     "name": "stdout",
     "output_type": "stream",
     "text": [
      "<Response [401]>\n"
     ]
    }
   ],
   "source": [
    "import requests\n",
    "def get_cases(keyword, max_cases=10):\n",
    "    url = f\"https://api.indiankanoon.org/search/?formInput={keyword}\"\n",
    "    response = requests.get(url)\n",
    "    # Parse response to extract case details\n",
    "    return response\n",
    "\n",
    "\n",
    "print(get_cases(\"Article 14\"))"
   ]
  },
  {
   "cell_type": "code",
   "execution_count": 13,
   "metadata": {},
   "outputs": [
    {
     "name": "stdout",
     "output_type": "stream",
     "text": [
      "Error: API returned status code 405\n",
      "Saved 0 cases to CSV\n"
     ]
    }
   ],
   "source": [
    "import requests\n",
    "import pandas as pd\n",
    "import time\n",
    "\n",
    "def get_cases(keyword=\"constitution\", max_cases=200):\n",
    "    API_KEY = \"eb9ac60185dc449a177c16a3f881476b16999a01\"  # Replace with your API key\n",
    "    headers = {\"Authorization\": f\"Token {API_KEY}\"}\n",
    "    \n",
    "    cases = []\n",
    "    page = 1\n",
    "    \n",
    "    try:\n",
    "        while len(cases) < max_cases:\n",
    "            url = f\"https://api.indiankanoon.org/search/?formInput={keyword}&pn={page}\"\n",
    "            response = requests.get(url, headers=headers)\n",
    "            \n",
    "            if response.status_code != 200:\n",
    "                print(f\"Error: API returned status code {response.status_code}\")\n",
    "                break\n",
    "                \n",
    "            data = response.json()\n",
    "            \n",
    "            if not data.get(\"results\"):\n",
    "                print(\"No more results found\")\n",
    "                break\n",
    "                \n",
    "            for result in data[\"results\"]:\n",
    "                cases.append({\n",
    "                    \"case_name\": result.get(\"title\", \"N/A\"),\n",
    "                    \"citation\": result.get(\"citation\", \"N/A\"),\n",
    "                    \"year\": result.get(\"date\", \"N/A\").split(\"-\")[0] if result.get(\"date\") else \"N/A\",\n",
    "                    \"judgment_summary\": result.get(\"doc\", \"N/A\")[:200] + \"...\",  # First 200 characters\n",
    "                    \"url\": f\"https://indiankanoon.org/doc/{result['tid']}/\"\n",
    "                })\n",
    "                \n",
    "                if len(cases) >= max_cases:\n",
    "                    break\n",
    "                    \n",
    "            page += 1\n",
    "            time.sleep(1)  # Rate limiting\n",
    "            \n",
    "        return pd.DataFrame(cases)\n",
    "    \n",
    "    except Exception as e:\n",
    "        print(f\"Error: {str(e)}\")\n",
    "        return pd.DataFrame(cases)\n",
    "\n",
    "# Example usage\n",
    "if __name__ == \"__main__\":\n",
    "    df = get_cases(keyword=\"article 14\", max_cases=200)\n",
    "    df.to_csv(\"indian_constitutional_cases.csv\", index=False)\n",
    "    print(f\"Saved {len(df)} cases to CSV\")\n"
   ]
  },
  {
   "cell_type": "code",
   "execution_count": 15,
   "metadata": {},
   "outputs": [],
   "source": [
    "import requests\n",
    "import pandas as pd\n",
    "import time\n",
    "\n",
    "def get_cases(keyword=\"constitution\", max_cases=200):\n",
    "    API_KEY = \"eb9ac60185dc449a177c16a3f881476b16999a01\"  # Replace with your actual API key\n",
    "    headers = {\"Authorization\": f\"Token {API_KEY}\"}  # Using Token Auth\n",
    "    \n",
    "    cases = []\n",
    "    page = 0  # pagenum starts at 0\n",
    "    \n",
    "    try:\n",
    "        while len(cases) < max_cases:\n",
    "            url = f\"https://api.indiankanoon.org/search/?formInput={keyword}&pagenum={page}\"  # SEARCH endpoint\n",
    "            response = requests.post(url, headers=headers)  # POST request\n",
    "            \n",
    "            if response.status_code == 404:\n",
    "                print(\"Error 404: Check URL, parameters, or API endpoint.\")\n",
    "                break\n",
    "            \n",
    "            if response.status_code == 403:\n",
    "                print(\"Error 403: Authentication failed. Check API key format or status.\")\n",
    "                break\n",
    "            \n",
    "            if response.status_code != 200:\n",
    "                print(f\"Error {response.status_code}: {response.text}\")\n",
    "                break\n",
    "            \n",
    "            data = response.json()\n",
    "            \n",
    "            if not data.get(\"docs\"):  # \"docs\" instead of \"results\"\n",
    "                print(\"No more results found.\")\n",
    "                break\n",
    "            \n",
    "            for doc in data[\"docs\"]:  # Use \"docs\" key\n",
    "                cases.append({\n",
    "                    \"case_name\": doc.get(\"title\", \"N/A\"),\n",
    "                    \"citation\": doc.get(\"citation\", \"N/A\"),\n",
    "                    \"year\": doc.get(\"publishdate\", \"N/A\").split(\"-\")[0] if doc.get(\"publishdate\") else \"N/A\",\n",
    "                    \"url\": f\"https://indiankanoon.org/doc/{doc['tid']}/\"\n",
    "                })\n",
    "                \n",
    "            page += 1\n",
    "            time.sleep(2)  # Rate limiting\n",
    "            \n",
    "        return pd.DataFrame(cases)\n",
    "    \n",
    "    except Exception as e:\n",
    "        print(f\"Fatal error: {str(e)}\")\n",
    "        return pd.DataFrame(cases)\n",
    "\n",
    "# Example\n",
    "df = get_cases(keyword=\"constitution\")\n",
    "df.to_csv(\"cases.csv\", index=False)\n"
   ]
  },
  {
   "cell_type": "code",
   "execution_count": null,
   "metadata": {},
   "outputs": [
    {
     "ename": "NameError",
     "evalue": "name '__file__' is not defined",
     "output_type": "error",
     "traceback": [
      "\u001b[0;31m---------------------------------------------------------------------------\u001b[0m",
      "\u001b[0;31mNameError\u001b[0m                                 Traceback (most recent call last)",
      "Cell \u001b[0;32mIn[17], line 10\u001b[0m\n\u001b[1;32m      7\u001b[0m \u001b[38;5;28;01mimport\u001b[39;00m\u001b[38;5;250m \u001b[39m\u001b[38;5;21;01mjson\u001b[39;00m\n\u001b[1;32m      9\u001b[0m \u001b[38;5;66;03m# Add the directory containing ikapi.py to the Python path\u001b[39;00m\n\u001b[0;32m---> 10\u001b[0m script_dir \u001b[38;5;241m=\u001b[39m os\u001b[38;5;241m.\u001b[39mpath\u001b[38;5;241m.\u001b[39mdirname(os\u001b[38;5;241m.\u001b[39mpath\u001b[38;5;241m.\u001b[39mabspath(\u001b[38;5;18;43m__file__\u001b[39;49m))\n\u001b[1;32m     11\u001b[0m sys\u001b[38;5;241m.\u001b[39mpath\u001b[38;5;241m.\u001b[39mappend(script_dir)\n\u001b[1;32m     13\u001b[0m \u001b[38;5;66;03m# Now you can import ikapi\u001b[39;00m\n",
      "\u001b[0;31mNameError\u001b[0m: name '__file__' is not defined"
     ]
    }
   ],
   "source": []
  },
  {
   "cell_type": "code",
   "execution_count": null,
   "metadata": {},
   "outputs": [],
   "source": []
  }
 ],
 "metadata": {
  "kernelspec": {
   "display_name": "mootcourtVenv",
   "language": "python",
   "name": "python3"
  },
  "language_info": {
   "codemirror_mode": {
    "name": "ipython",
    "version": 3
   },
   "file_extension": ".py",
   "mimetype": "text/x-python",
   "name": "python",
   "nbconvert_exporter": "python",
   "pygments_lexer": "ipython3",
   "version": "3.10.12"
  }
 },
 "nbformat": 4,
 "nbformat_minor": 2
}
